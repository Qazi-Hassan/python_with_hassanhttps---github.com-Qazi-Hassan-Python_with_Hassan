{
 "cells": [
  {
   "cell_type": "markdown",
   "metadata": {},
   "source": [
    " **we use ipynb file to separate the codes**"
   ]
  },
  {
   "cell_type": "markdown",
   "metadata": {},
   "source": [
    "pandas        (excel pro)\n",
    "numpy         ( to understand the data type)\n",
    "matplotlib    (any type of graph and plotes)\n",
    "seaborn       ( matplotlib pro)\n",
    "plotly        ( 3D plotes,dashdoards etc)\n",
    "scipystats    (for statistics)\n",
    "scikit-learn   (ML, make predictions on the basis of previous data)\n",
    "keras          ( not necessary yet)\n",
    "streamlit      (dashboards,apps)"
   ]
  },
  {
   "cell_type": "code",
   "execution_count": null,
   "metadata": {},
   "outputs": [],
   "source": []
  },
  {
   "cell_type": "code",
   "execution_count": null,
   "metadata": {},
   "outputs": [],
   "source": [
    "\n"
   ]
  }
 ],
 "metadata": {
  "kernelspec": {
   "display_name": "Python 3",
   "language": "python",
   "name": "python3"
  },
  "language_info": {
   "codemirror_mode": {
    "name": "ipython",
    "version": 3
   },
   "file_extension": ".py",
   "mimetype": "text/x-python",
   "name": "python",
   "nbconvert_exporter": "python",
   "pygments_lexer": "ipython3",
   "version": "3.12.6"
  }
 },
 "nbformat": 4,
 "nbformat_minor": 2
}
